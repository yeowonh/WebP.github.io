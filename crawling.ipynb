{
  "nbformat": 4,
  "nbformat_minor": 0,
  "metadata": {
    "colab": {
      "name": "7기_12주차_예습과제_황예원.ipynb",
      "provenance": []
    },
    "kernelspec": {
      "name": "python3",
      "display_name": "Python 3"
    },
    "language_info": {
      "name": "python"
    }
  },
  "cells": [
    {
      "cell_type": "code",
      "metadata": {
        "id": "BXCf0QO5DD5N"
      },
      "source": [
        "from urllib.request import urlopen\n",
        "from bs4 import BeautifulSoup\n",
        "from selenium import webdriver\n",
        "\n",
        "# 마우스 자동 스크롤\n",
        "from selenium.webdriver import ActionChains\n",
        "# 웹 동작 속도에 따른 수동 딜레이\n",
        "import time\n",
        "import pandas as pd"
      ],
      "execution_count": 1,
      "outputs": []
    },
    {
      "cell_type": "code",
      "metadata": {
        "colab": {
          "base_uri": "https://localhost:8080/"
        },
        "id": "GjQvZaW1E6zC",
        "outputId": "928bba67-d1bf-43e5-91fd-cbf00f331478"
      },
      "source": [
        "import sys\n",
        "\n",
        "# install chromium, its driver, and selenium\n",
        "if 'google.colab' in sys.modules:\n",
        "    !apt-get update\n",
        "    !apt install chromium-chromedriver\n",
        "    !pip install selenium"
      ],
      "execution_count": 2,
      "outputs": [
        {
          "output_type": "stream",
          "text": [
            "\r0% [Working]\r            \rIgn:1 https://developer.download.nvidia.com/compute/cuda/repos/ubuntu1804/x86_64  InRelease\n",
            "\r0% [Connecting to archive.ubuntu.com (91.189.88.152)] [Waiting for headers] [Wa\r                                                                               \rHit:2 https://cloud.r-project.org/bin/linux/ubuntu bionic-cran40/ InRelease\n",
            "\r0% [Connecting to archive.ubuntu.com (91.189.88.152)] [Waiting for headers] [Co\r0% [2 InRelease gpgv 3,626 B] [Connecting to archive.ubuntu.com (91.189.88.152)\r                                                                               \rIgn:3 https://developer.download.nvidia.com/compute/machine-learning/repos/ubuntu1804/x86_64  InRelease\n",
            "\r0% [2 InRelease gpgv 3,626 B] [Connecting to archive.ubuntu.com (91.189.88.152)\r                                                                               \rHit:4 https://developer.download.nvidia.com/compute/cuda/repos/ubuntu1804/x86_64  Release\n",
            "Hit:5 https://developer.download.nvidia.com/compute/machine-learning/repos/ubuntu1804/x86_64  Release\n",
            "Hit:6 http://archive.ubuntu.com/ubuntu bionic InRelease\n",
            "Hit:7 http://ppa.launchpad.net/c2d4u.team/c2d4u4.0+/ubuntu bionic InRelease\n",
            "Hit:8 http://security.ubuntu.com/ubuntu bionic-security InRelease\n",
            "Hit:9 http://archive.ubuntu.com/ubuntu bionic-updates InRelease\n",
            "Hit:11 http://archive.ubuntu.com/ubuntu bionic-backports InRelease\n",
            "Hit:12 http://ppa.launchpad.net/cran/libgit2/ubuntu bionic InRelease\n",
            "Hit:14 http://ppa.launchpad.net/deadsnakes/ppa/ubuntu bionic InRelease\n",
            "Hit:15 http://ppa.launchpad.net/graphics-drivers/ppa/ubuntu bionic InRelease\n",
            "Reading package lists... Done\n",
            "Reading package lists... Done\n",
            "Building dependency tree       \n",
            "Reading state information... Done\n",
            "chromium-chromedriver is already the newest version (91.0.4472.101-0ubuntu0.18.04.1).\n",
            "0 upgraded, 0 newly installed, 0 to remove and 97 not upgraded.\n",
            "Requirement already satisfied: selenium in /usr/local/lib/python3.7/dist-packages (3.141.0)\n",
            "Requirement already satisfied: urllib3 in /usr/local/lib/python3.7/dist-packages (from selenium) (1.24.3)\n"
          ],
          "name": "stdout"
        }
      ]
    },
    {
      "cell_type": "code",
      "metadata": {
        "id": "5v5mak9aF9eJ"
      },
      "source": [
        "chrome_options = webdriver.ChromeOptions()\n",
        "chrome_options.add_argument('--headless')\n",
        "chrome_options.add_argument('--no-sandbox')\n",
        "chrome_options.add_argument('--disable-dev-shm-usage')"
      ],
      "execution_count": 3,
      "outputs": []
    },
    {
      "cell_type": "code",
      "metadata": {
        "colab": {
          "base_uri": "https://localhost:8080/"
        },
        "id": "qNb1ci9lDJN6",
        "outputId": "ec13f1db-8de1-49f1-caf8-c3173b6e938a"
      },
      "source": [
        "# chrome driver\n",
        "driver = webdriver.Chrome(chrome_options=chrome_options)\n",
        "driver.implicitly_wait(3)"
      ],
      "execution_count": 4,
      "outputs": [
        {
          "output_type": "stream",
          "text": [
            "/usr/local/lib/python3.7/dist-packages/ipykernel_launcher.py:2: DeprecationWarning: use options instead of chrome_options\n",
            "  \n"
          ],
          "name": "stderr"
        }
      ]
    },
    {
      "cell_type": "code",
      "metadata": {
        "id": "7MvrTDMYDK5n"
      },
      "source": [
        "name_list = []\n",
        "eng_name_list = []\n",
        "price_list = []"
      ],
      "execution_count": 5,
      "outputs": []
    },
    {
      "cell_type": "code",
      "metadata": {
        "id": "IhxlJfXyDNJF"
      },
      "source": [
        "# 파싱 함수 정의\n",
        "def parsing(type_code, num):\n",
        "    for i in range(1, num+1):\n",
        "        URL = \"https://www.caffe-pascucci.co.kr/product/productList.asp?typeCode=\"+ type_code + \"000\" + str(i) + \"0\"\n",
        "        driver.get(URL)\n",
        "        menu = BeautifulSoup(urlopen(URL), \"html.parser\")\n",
        "        time.sleep(0.5)\n",
        "\n",
        "        html = urlopen(URL)\n",
        "        Menu = BeautifulSoup(html, \"html.parser\")\n",
        "\n",
        "        # 한국어 메뉴명\n",
        "        name = Menu.select('figcaption > h2')\n",
        "        for n in name:\n",
        "            name_list.append(n.get_text())\n",
        "\n",
        "        # 영어 메뉴명\n",
        "        engname = Menu.select('figcaption > p.titleEng')\n",
        "        for en in engname:\n",
        "            eng_name_list.append(en.get_text())\n",
        "\n",
        "        elements_list = driver.find_elements_by_class_name('product')\n",
        "        for a in elements_list:\n",
        "            # 자동 클릭\n",
        "            a.click()\n",
        "\n",
        "            # 가격 정보 리스트에 추가\n",
        "            price = driver.find_element_by_class_name('sizeInfo').text.split(' ')\n",
        "\n",
        "            # 문자열 슬라이싱\n",
        "            if len(price) > 1:\n",
        "                price_list.append(price[1])\n",
        "            else:\n",
        "                price_list.append(price[0])\n",
        "\n",
        "            # 여유시간\n",
        "            time.sleep(0.5)\n",
        "\n",
        "            # 닫기\n",
        "            div_class = driver.find_element_by_class_name('proDtCon')\n",
        "            close_button = div_class.find_element_by_tag_name('button')\n",
        "            close_button.click()\n",
        "\n",
        "            # 스크롤 올리기\n",
        "            action = ActionChains(driver)\n",
        "            upper_tag = driver.find_element_by_class_name('location')\n",
        "            action.move_to_element(upper_tag).perform()\n",
        "\n",
        "            # 여유시간\n",
        "            time.sleep(0.5)"
      ],
      "execution_count": 6,
      "outputs": []
    },
    {
      "cell_type": "code",
      "metadata": {
        "id": "IdZHx7JIDPb1"
      },
      "source": [
        "parsing(\"001\", 4)\n",
        "parsing(\"002\", 5)\n",
        "parsing(\"003\", 5)\n",
        "driver.quit()"
      ],
      "execution_count": 7,
      "outputs": []
    },
    {
      "cell_type": "code",
      "metadata": {
        "colab": {
          "base_uri": "https://localhost:8080/"
        },
        "id": "qh03ckuLDSew",
        "outputId": "1d014eaa-a400-4f10-892c-3f3303492119"
      },
      "source": [
        "# dataframe 변환\n",
        "df = pd.DataFrame({'name':name_list, 'eng_name':eng_name_list, 'price':price_list})\n",
        "print(df)"
      ],
      "execution_count": 8,
      "outputs": [
        {
          "output_type": "stream",
          "text": [
            "            name               eng_name   price\n",
            "0          에스프레소               Espresso  3,600원\n",
            "1      에스프레소 도피오        Espresso Doppio  4,100원\n",
            "2     에스프레소 마끼아또     Espresso Macchiato  4,100원\n",
            "3           아포가또               Affogato  5,500원\n",
            "4      오리지널 드립커피   Original Drip Coffee  4,200원\n",
            "..           ...                    ...     ...\n",
            "173       피넛 젤라또          Peanut Gelato  4,000원\n",
            "174       라떼 젤라또   Fior Di Latte Gelato  4,000원\n",
            "175       딸기 젤라또      Strawberry Gelato   4,000\n",
            "176      요거트 젤라또          Yogurt Gelato  4,000원\n",
            "177  아마레나 체리 젤라또  Amarena Cherry Gelato  4,000원\n",
            "\n",
            "[178 rows x 3 columns]\n"
          ],
          "name": "stdout"
        }
      ]
    }
  ]
}