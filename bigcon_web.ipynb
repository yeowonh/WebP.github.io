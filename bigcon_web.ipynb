{
  "nbformat": 4,
  "nbformat_minor": 0,
  "metadata": {
    "colab": {
      "name": "bigcon_web.ipynb",
      "provenance": [],
      "collapsed_sections": [],
      "authorship_tag": "ABX9TyO3FXhD9/ISfoY3tQl7t/Qc",
      "include_colab_link": true
    },
    "kernelspec": {
      "name": "python3",
      "display_name": "Python 3"
    },
    "language_info": {
      "name": "python"
    }
  },
  "cells": [
    {
      "cell_type": "markdown",
      "metadata": {
        "id": "view-in-github",
        "colab_type": "text"
      },
      "source": [
        "<a href=\"https://colab.research.google.com/github/yeowonh/WebP.github.io/blob/master/bigcon_web.ipynb\" target=\"_parent\"><img src=\"https://colab.research.google.com/assets/colab-badge.svg\" alt=\"Open In Colab\"/></a>"
      ]
    },
    {
      "cell_type": "code",
      "metadata": {
        "colab": {
          "base_uri": "https://localhost:8080/"
        },
        "id": "m_8J6f-F8AtN",
        "outputId": "a1ad077e-36ec-4e00-bf48-ef1a9db2d3cf"
      },
      "source": [
        "# 드라이브 마운트\n",
        "from google.colab import drive\n",
        "\n",
        "drive.mount('/content/gdrive')"
      ],
      "execution_count": null,
      "outputs": [
        {
          "output_type": "stream",
          "text": [
            "Mounted at /content/gdrive\n"
          ],
          "name": "stdout"
        }
      ]
    },
    {
      "cell_type": "code",
      "metadata": {
        "colab": {
          "base_uri": "https://localhost:8080/"
        },
        "id": "wlUb4xfsPrvy",
        "outputId": "fa39aab2-ed05-48fe-857b-48afcdd5f5f2"
      },
      "source": [
        "!apt-get update\n",
        "!pip install selenium\n",
        "!pip install urllib \n",
        "!pip install pandas \n",
        "!pip install beautifulsoup4\n",
        "!apt install chromium-chromedriver --fix-missing"
      ],
      "execution_count": null,
      "outputs": [
        {
          "output_type": "stream",
          "text": [
            "\r0% [Working]\r            \rGet:1 https://cloud.r-project.org/bin/linux/ubuntu bionic-cran40/ InRelease [3,626 B]\n",
            "Ign:2 https://developer.download.nvidia.com/compute/cuda/repos/ubuntu1804/x86_64  InRelease\n",
            "Ign:3 https://developer.download.nvidia.com/compute/machine-learning/repos/ubuntu1804/x86_64  InRelease\n",
            "Get:4 http://security.ubuntu.com/ubuntu bionic-security InRelease [88.7 kB]\n",
            "Hit:5 https://developer.download.nvidia.com/compute/cuda/repos/ubuntu1804/x86_64  Release\n",
            "Hit:6 https://developer.download.nvidia.com/compute/machine-learning/repos/ubuntu1804/x86_64  Release\n",
            "Get:7 http://ppa.launchpad.net/c2d4u.team/c2d4u4.0+/ubuntu bionic InRelease [15.9 kB]\n",
            "Hit:8 http://archive.ubuntu.com/ubuntu bionic InRelease\n",
            "Get:9 http://archive.ubuntu.com/ubuntu bionic-updates InRelease [88.7 kB]\n",
            "Hit:11 http://ppa.launchpad.net/cran/libgit2/ubuntu bionic InRelease\n",
            "Hit:13 http://ppa.launchpad.net/deadsnakes/ppa/ubuntu bionic InRelease\n",
            "Get:14 http://archive.ubuntu.com/ubuntu bionic-backports InRelease [74.6 kB]\n",
            "Get:15 http://security.ubuntu.com/ubuntu bionic-security/universe amd64 Packages [1,424 kB]\n",
            "Hit:16 http://ppa.launchpad.net/graphics-drivers/ppa/ubuntu bionic InRelease\n",
            "Get:17 http://security.ubuntu.com/ubuntu bionic-security/main amd64 Packages [2,294 kB]\n",
            "Get:18 http://security.ubuntu.com/ubuntu bionic-security/restricted amd64 Packages [543 kB]\n",
            "Get:19 http://ppa.launchpad.net/c2d4u.team/c2d4u4.0+/ubuntu bionic/main Sources [1,792 kB]\n",
            "Get:20 http://archive.ubuntu.com/ubuntu bionic-updates/main amd64 Packages [2,730 kB]\n",
            "Get:21 http://ppa.launchpad.net/c2d4u.team/c2d4u4.0+/ubuntu bionic/main amd64 Packages [917 kB]\n",
            "Get:22 http://archive.ubuntu.com/ubuntu bionic-updates/restricted amd64 Packages [575 kB]\n",
            "Get:23 http://archive.ubuntu.com/ubuntu bionic-updates/universe amd64 Packages [2,199 kB]\n",
            "Get:24 http://archive.ubuntu.com/ubuntu bionic-updates/multiverse amd64 Packages [34.4 kB]\n",
            "Fetched 12.8 MB in 4s (3,327 kB/s)\n",
            "Reading package lists... Done\n",
            "Collecting selenium\n",
            "  Downloading selenium-3.141.0-py2.py3-none-any.whl (904 kB)\n",
            "\u001b[K     |████████████████████████████████| 904 kB 7.5 MB/s \n",
            "\u001b[?25hRequirement already satisfied: urllib3 in /usr/local/lib/python3.7/dist-packages (from selenium) (1.24.3)\n",
            "Installing collected packages: selenium\n",
            "Successfully installed selenium-3.141.0\n",
            "\u001b[31mERROR: Could not find a version that satisfies the requirement urllib (from versions: none)\u001b[0m\n",
            "\u001b[31mERROR: No matching distribution found for urllib\u001b[0m\n",
            "Requirement already satisfied: pandas in /usr/local/lib/python3.7/dist-packages (1.1.5)\n",
            "Requirement already satisfied: pytz>=2017.2 in /usr/local/lib/python3.7/dist-packages (from pandas) (2018.9)\n",
            "Requirement already satisfied: numpy>=1.15.4 in /usr/local/lib/python3.7/dist-packages (from pandas) (1.19.5)\n",
            "Requirement already satisfied: python-dateutil>=2.7.3 in /usr/local/lib/python3.7/dist-packages (from pandas) (2.8.2)\n",
            "Requirement already satisfied: six>=1.5 in /usr/local/lib/python3.7/dist-packages (from python-dateutil>=2.7.3->pandas) (1.15.0)\n",
            "Requirement already satisfied: beautifulsoup4 in /usr/local/lib/python3.7/dist-packages (4.6.3)\n",
            "Reading package lists... Done\n",
            "Building dependency tree       \n",
            "Reading state information... Done\n",
            "The following package was automatically installed and is no longer required:\n",
            "  libnvidia-common-460\n",
            "Use 'apt autoremove' to remove it.\n",
            "The following additional packages will be installed:\n",
            "  chromium-browser chromium-browser-l10n chromium-codecs-ffmpeg-extra\n",
            "Suggested packages:\n",
            "  webaccounts-chromium-extension unity-chromium-extension\n",
            "The following NEW packages will be installed:\n",
            "  chromium-browser chromium-browser-l10n chromium-chromedriver\n",
            "  chromium-codecs-ffmpeg-extra\n",
            "0 upgraded, 4 newly installed, 0 to remove and 50 not upgraded.\n",
            "Need to get 91.8 MB of archives.\n",
            "After this operation, 315 MB of additional disk space will be used.\n",
            "Get:1 http://archive.ubuntu.com/ubuntu bionic-updates/universe amd64 chromium-codecs-ffmpeg-extra amd64 92.0.4515.159-0ubuntu0.18.04.1 [1,124 kB]\n",
            "Get:2 http://archive.ubuntu.com/ubuntu bionic-updates/universe amd64 chromium-browser amd64 92.0.4515.159-0ubuntu0.18.04.1 [81.7 MB]\n",
            "Get:3 http://archive.ubuntu.com/ubuntu bionic-updates/universe amd64 chromium-browser-l10n all 92.0.4515.159-0ubuntu0.18.04.1 [4,026 kB]\n",
            "Get:4 http://archive.ubuntu.com/ubuntu bionic-updates/universe amd64 chromium-chromedriver amd64 92.0.4515.159-0ubuntu0.18.04.1 [4,902 kB]\n",
            "Fetched 91.8 MB in 6s (15.9 MB/s)\n",
            "Selecting previously unselected package chromium-codecs-ffmpeg-extra.\n",
            "(Reading database ... 148486 files and directories currently installed.)\n",
            "Preparing to unpack .../chromium-codecs-ffmpeg-extra_92.0.4515.159-0ubuntu0.18.04.1_amd64.deb ...\n",
            "Unpacking chromium-codecs-ffmpeg-extra (92.0.4515.159-0ubuntu0.18.04.1) ...\n",
            "Selecting previously unselected package chromium-browser.\n",
            "Preparing to unpack .../chromium-browser_92.0.4515.159-0ubuntu0.18.04.1_amd64.deb ...\n",
            "Unpacking chromium-browser (92.0.4515.159-0ubuntu0.18.04.1) ...\n",
            "Selecting previously unselected package chromium-browser-l10n.\n",
            "Preparing to unpack .../chromium-browser-l10n_92.0.4515.159-0ubuntu0.18.04.1_all.deb ...\n",
            "Unpacking chromium-browser-l10n (92.0.4515.159-0ubuntu0.18.04.1) ...\n",
            "Selecting previously unselected package chromium-chromedriver.\n",
            "Preparing to unpack .../chromium-chromedriver_92.0.4515.159-0ubuntu0.18.04.1_amd64.deb ...\n",
            "Unpacking chromium-chromedriver (92.0.4515.159-0ubuntu0.18.04.1) ...\n",
            "Setting up chromium-codecs-ffmpeg-extra (92.0.4515.159-0ubuntu0.18.04.1) ...\n",
            "Setting up chromium-browser (92.0.4515.159-0ubuntu0.18.04.1) ...\n",
            "update-alternatives: using /usr/bin/chromium-browser to provide /usr/bin/x-www-browser (x-www-browser) in auto mode\n",
            "update-alternatives: using /usr/bin/chromium-browser to provide /usr/bin/gnome-www-browser (gnome-www-browser) in auto mode\n",
            "Setting up chromium-chromedriver (92.0.4515.159-0ubuntu0.18.04.1) ...\n",
            "Setting up chromium-browser-l10n (92.0.4515.159-0ubuntu0.18.04.1) ...\n",
            "Processing triggers for man-db (2.8.3-2ubuntu0.1) ...\n",
            "Processing triggers for hicolor-icon-theme (0.17-2) ...\n",
            "Processing triggers for mime-support (3.60ubuntu1) ...\n",
            "Processing triggers for libc-bin (2.27-3ubuntu1.2) ...\n",
            "/sbin/ldconfig.real: /usr/local/lib/python3.7/dist-packages/ideep4py/lib/libmkldnn.so.0 is not a symbolic link\n",
            "\n"
          ],
          "name": "stdout"
        }
      ]
    },
    {
      "cell_type": "code",
      "metadata": {
        "colab": {
          "base_uri": "https://localhost:8080/"
        },
        "id": "h0nUDPcdP0dO",
        "outputId": "4f23f5a1-9a29-4dff-85b7-ea56b7fd9666"
      },
      "source": [
        "from selenium import webdriver \n",
        "from bs4 import BeautifulSoup \n",
        "import pandas as pd\n",
        "from urllib.request import urlopen\n",
        "\n",
        "chrome_options = webdriver.ChromeOptions()\n",
        "chrome_options.add_argument('--headless')\n",
        "chrome_options.add_argument('--no-sandbox')\n",
        "chrome_options.add_argument('--disable-dev-shm-usage')\n",
        "chromeDriver = webdriver.Chrome('chromedriver',chrome_options=chrome_options)"
      ],
      "execution_count": null,
      "outputs": [
        {
          "output_type": "stream",
          "text": [
            "/usr/local/lib/python3.7/dist-packages/ipykernel_launcher.py:10: DeprecationWarning: use options instead of chrome_options\n",
            "  # Remove the CWD from sys.path while we load stuff.\n"
          ],
          "name": "stderr"
        }
      ]
    },
    {
      "cell_type": "code",
      "metadata": {
        "id": "pWgScI0E1eaD"
      },
      "source": [
        "def team_hit_record(url):\n",
        "  chromeDriver.get(url)\n",
        "  html = chromeDriver.page_source\n",
        "  bsObject = BeautifulSoup(html, 'html.parser')\n",
        "  table = bsObject.find('table', id='mytable')\n",
        "  column = [\"순위\", \"이름\", \"팀\", \"WAR\", \"G\", \"타석\", \"타수\", \"득점\", \"안타\", \"2타\", \"3타\", \"홈런\", \"루타\", \n",
        "          \"타점\", \"도루\", \"도실\", \"볼넷\", \"사구\", \"고4\", \"삼진\", \"병살\", \"희타\", \"희비\", \"타율비율\", \"출루비율\",\n",
        "          \"장타비율\", \"OPS비율\", \"wOBA비율\", \"wRC+비율\", \"WAR\", \"WPA\"]\n",
        "  templen = len(table.find_all(\"tr\"))\n",
        "  df = pd.DataFrame(columns=column)\n",
        "  for i in range(2, templen):\n",
        "    tempTr = table.find_all(\"tr\")[i]\n",
        "    if tempTr.find(\"th\") != None:\n",
        "      continue\n",
        "    row = {}\n",
        "    column_idx = 0\n",
        "    for j in range(31):\n",
        "      tempTd = tempTr.find_all(\"td\")[j].text\n",
        "      if (tempTd == \"\") & (j>0):\n",
        "        continue\n",
        "      row[column[column_idx]] = tempTd\n",
        "      column_idx += 1\n",
        "    df = df.append(row, ignore_index=True)\n",
        "  df = df.loc[1:10,:]\n",
        "  df.drop(['팀', '순위'], axis=1, inplace=True)\n",
        "  df.reset_index(drop=True)\n",
        "  return df"
      ],
      "execution_count": null,
      "outputs": []
    },
    {
      "cell_type": "code",
      "metadata": {
        "id": "-NSQqfOzyZzX"
      },
      "source": [
        "team_hit_21 = team_hit_record(\"http://www.statiz.co.kr/stat.php?re=0&lr=5\")\n",
        "team_hit_20 = team_hit_record(\"http://www.statiz.co.kr/stat.php?opt=0&sopt=0&re=0&ys=2020&ye=2020&se=0&te=&tm=&ty=0&qu=auto&po=0&as=&ae=&hi=&un=&pl=&da=1&o1=WAR_ALL_ADJ&o2=TPA&de=1&lr=5&tr=&cv=&ml=1&sn=30&si=&cn=\")\n",
        "team_hit_19 = team_hit_record(\"http://www.statiz.co.kr/stat.php?opt=0&sopt=0&re=0&ys=2019&ye=2019&se=0&te=&tm=&ty=0&qu=auto&po=0&as=&ae=&hi=&un=&pl=&da=1&o1=WAR_ALL_ADJ&o2=TPA&de=1&lr=5&tr=&cv=&ml=1&sn=30&si=&cn=\")\n",
        "team_hit_18 = team_hit_record(\"http://www.statiz.co.kr/stat.php?opt=0&sopt=0&re=0&ys=2018&ye=2018&se=0&te=&tm=&ty=0&qu=auto&po=0&as=&ae=&hi=&un=&pl=&da=1&o1=WAR_ALL_ADJ&o2=TPA&de=1&lr=5&tr=&cv=&ml=1&sn=30&si=&cn=\")\n",
        "team_hit_17 = team_hit_record(\"http://www.statiz.co.kr/stat.php?opt=0&sopt=0&re=0&ys=2017&ye=2017&se=0&te=&tm=&ty=0&qu=auto&po=0&as=&ae=&hi=&un=&pl=&da=1&o1=WAR_ALL_ADJ&o2=TPA&de=1&lr=5&tr=&cv=&ml=1&sn=30&si=&cn=\")"
      ],
      "execution_count": null,
      "outputs": []
    },
    {
      "cell_type": "code",
      "metadata": {
        "colab": {
          "base_uri": "https://localhost:8080/"
        },
        "id": "7bidle5L4aYr",
        "outputId": "502f5896-8483-403b-ec90-0f5e25639d79"
      },
      "source": [
        "print(team_hit_21.shape)\n",
        "print(team_hit_20.shape)\n",
        "print(team_hit_19.shape)\n",
        "print(team_hit_18.shape)\n",
        "print(team_hit_17.shape)"
      ],
      "execution_count": null,
      "outputs": [
        {
          "output_type": "stream",
          "text": [
            "(10, 29)\n",
            "(10, 29)\n",
            "(10, 29)\n",
            "(10, 29)\n",
            "(10, 29)\n"
          ],
          "name": "stdout"
        }
      ]
    },
    {
      "cell_type": "code",
      "metadata": {
        "id": "RR0vX_NE6N28"
      },
      "source": [
        "team_hit_21.to_csv('/content/gdrive/My Drive/Colab Notebooks/baseball/data/team_hit_data/team_hit_21.csv', index=False)\n",
        "team_hit_20.to_csv('/content/gdrive/My Drive/Colab Notebooks/baseball/data/team_hit_data/team_hit_20.csv', index=False)\n",
        "team_hit_19.to_csv('/content/gdrive/My Drive/Colab Notebooks/baseball/data/team_hit_data/team_hit_19.csv', index=False)\n",
        "team_hit_18.to_csv('/content/gdrive/My Drive/Colab Notebooks/baseball/data/team_hit_data/team_hit_18.csv', index=False)\n",
        "team_hit_17.to_csv('/content/gdrive/My Drive/Colab Notebooks/baseball/data/team_hit_data/team_hit_17.csv', index=False)"
      ],
      "execution_count": null,
      "outputs": []
    },
    {
      "cell_type": "code",
      "metadata": {
        "id": "tmQnJwDq0WEs"
      },
      "source": [
        "def team_pit_record(url):\n",
        "  chromeDriver.get(url)\n",
        "  html = chromeDriver.page_source\n",
        "  bsObject = BeautifulSoup(html, 'html.parser')\n",
        "  table = bsObject.find('table', id='mytable')\n",
        "  column = [\"순위\", \"이름\", \"팀\", \"WAR\", \"출장\", \"완투\", \"완봉\", \"선발\", \"승\", \"패\", \"세\", \"홀드\", \"이닝\", \n",
        "          \"실점\", \"자책\", \"타자\", \"안타\", \"2타\", \"3타\", \"홈런\", \"볼넷\", \"고4\", \"사구\", \"삼진\", \"보크\", \"폭투\",\n",
        "          \"ERA비율\", \"FIP비율\", \"WHIP비율\", \"ERA+비율\", \"FIP+비율\", \"WRA\", \"WPA\"]\n",
        "  templen = len(table.find_all(\"tr\"))\n",
        "  df = pd.DataFrame(columns=column)\n",
        "  for i in range(2, templen):\n",
        "    tempTr = table.find_all(\"tr\")[i]\n",
        "    if tempTr.find(\"th\") != None:\n",
        "      continue\n",
        "    row = {}\n",
        "    column_idx = 0\n",
        "    for j in range(33):\n",
        "      tempTd = tempTr.find_all(\"td\")[j].text\n",
        "      if (tempTd == \"\") & (j>0):\n",
        "        continue\n",
        "      row[column[column_idx]] = tempTd\n",
        "      column_idx += 1\n",
        "    df = df.append(row, ignore_index=True)\n",
        "  df = df.loc[1:10,:]\n",
        "  df.drop(['팀', '순위'], axis=1, inplace=True)\n",
        "  df.reset_index(drop=True)\n",
        "  return df"
      ],
      "execution_count": null,
      "outputs": []
    },
    {
      "cell_type": "code",
      "metadata": {
        "id": "vANO-Mkt3mxv"
      },
      "source": [
        "team_pit_21 = team_pit_record(\"http://www.statiz.co.kr/stat.php?re=1&lr=5\")\n",
        "team_pit_20 = team_pit_record(\"http://www.statiz.co.kr/stat.php?opt=0&sopt=0&re=1&ys=2020&ye=2020&se=0&te=&tm=&ty=0&qu=auto&po=0&as=&ae=&hi=&un=&pl=&da=1&o1=WAR&o2=OutCount&de=1&lr=5&tr=&cv=&ml=1&sn=30&si=&cn=\")\n",
        "team_pit_19 = team_pit_record(\"http://www.statiz.co.kr/stat.php?opt=0&sopt=0&re=1&ys=2019&ye=2019&se=0&te=&tm=&ty=0&qu=auto&po=0&as=&ae=&hi=&un=&pl=&da=1&o1=WAR&o2=OutCount&de=1&lr=5&tr=&cv=&ml=1&sn=30&si=&cn=\")\n",
        "team_pit_18 = team_pit_record(\"http://www.statiz.co.kr/stat.php?opt=0&sopt=0&re=1&ys=2018&ye=2018&se=0&te=&tm=&ty=0&qu=auto&po=0&as=&ae=&hi=&un=&pl=&da=1&o1=WAR&o2=OutCount&de=1&lr=5&tr=&cv=&ml=1&sn=30&si=&cn=\")\n",
        "team_pit_17 = team_pit_record(\"http://www.statiz.co.kr/stat.php?opt=0&sopt=0&re=1&ys=2017&ye=2017&se=0&te=&tm=&ty=0&qu=auto&po=0&as=&ae=&hi=&un=&pl=&da=1&o1=WAR&o2=OutCount&de=1&lr=5&tr=&cv=&ml=1&sn=30&si=&cn=\")"
      ],
      "execution_count": null,
      "outputs": []
    },
    {
      "cell_type": "code",
      "metadata": {
        "colab": {
          "base_uri": "https://localhost:8080/"
        },
        "id": "kmn3sW8o4ZjG",
        "outputId": "2510fa69-759d-4f0f-c48a-15d85f05ac4d"
      },
      "source": [
        "print(team_pit_21.shape)\n",
        "print(team_pit_20.shape)\n",
        "print(team_pit_19.shape)\n",
        "print(team_pit_18.shape)\n",
        "print(team_pit_17.shape)"
      ],
      "execution_count": null,
      "outputs": [
        {
          "output_type": "stream",
          "text": [
            "(10, 31)\n",
            "(10, 31)\n",
            "(10, 31)\n",
            "(10, 31)\n",
            "(10, 31)\n"
          ],
          "name": "stdout"
        }
      ]
    },
    {
      "cell_type": "code",
      "metadata": {
        "id": "xLIrlpID60GI"
      },
      "source": [
        "team_pit_21.to_csv('/content/gdrive/My Drive/Colab Notebooks/baseball/data/team_pit_data/team_pit_21.csv', index=False)\n",
        "team_pit_20.to_csv('/content/gdrive/My Drive/Colab Notebooks/baseball/data/team_pit_data/team_pit_20.csv', index=False)\n",
        "team_pit_19.to_csv('/content/gdrive/My Drive/Colab Notebooks/baseball/data/team_pit_data/team_pit_19.csv', index=False)\n",
        "team_pit_18.to_csv('/content/gdrive/My Drive/Colab Notebooks/baseball/data/team_pit_data/team_pit_18.csv', index=False)\n",
        "team_pit_17.to_csv('/content/gdrive/My Drive/Colab Notebooks/baseball/data/team_pit_data/team_pit_17.csv', index=False)"
      ],
      "execution_count": null,
      "outputs": []
    },
    {
      "cell_type": "code",
      "metadata": {
        "id": "sIiSGnUv9b87"
      },
      "source": [
        ""
      ],
      "execution_count": null,
      "outputs": []
    }
  ]
}